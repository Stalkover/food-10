{
  "nbformat": 4,
  "nbformat_minor": 0,
  "metadata": {
    "colab": {
      "provenance": [],
      "authorship_tag": "ABX9TyNguJJisQhfos0gKPykUQGc",
      "include_colab_link": true
    },
    "kernelspec": {
      "name": "python3",
      "display_name": "Python 3"
    },
    "language_info": {
      "name": "python"
    }
  },
  "cells": [
    {
      "cell_type": "markdown",
      "metadata": {
        "id": "view-in-github",
        "colab_type": "text"
      },
      "source": [
        "<a href=\"https://colab.research.google.com/github/Stalkover/food-10/blob/main/model.ipynb\" target=\"_parent\"><img src=\"https://colab.research.google.com/assets/colab-badge.svg\" alt=\"Open In Colab\"/></a>"
      ]
    },
    {
      "cell_type": "code",
      "execution_count": 1,
      "metadata": {
        "colab": {
          "base_uri": "https://localhost:8080/"
        },
        "id": "lFSiP4pm_R8Z",
        "outputId": "eac400e3-dc1d-455a-cb3a-3414a21540ab"
      },
      "outputs": [
        {
          "output_type": "stream",
          "name": "stderr",
          "text": [
            "2023-02-20 14:43:30.449625: I tensorflow/core/platform/cpu_feature_guard.cc:193] This TensorFlow binary is optimized with oneAPI Deep Neural Network Library (oneDNN) to use the following CPU instructions in performance-critical operations:  AVX2 FMA\n",
            "To enable them in other operations, rebuild TensorFlow with the appropriate compiler flags.\n",
            "2023-02-20 14:43:30.558748: W tensorflow/compiler/xla/stream_executor/platform/default/dso_loader.cc:64] Could not load dynamic library 'libcudart.so.11.0'; dlerror: libcudart.so.11.0: cannot open shared object file: No such file or directory\n",
            "2023-02-20 14:43:30.558763: I tensorflow/compiler/xla/stream_executor/cuda/cudart_stub.cc:29] Ignore above cudart dlerror if you do not have a GPU set up on your machine.\n",
            "2023-02-20 14:43:31.086457: W tensorflow/compiler/xla/stream_executor/platform/default/dso_loader.cc:64] Could not load dynamic library 'libnvinfer.so.7'; dlerror: libnvinfer.so.7: cannot open shared object file: No such file or directory\n",
            "2023-02-20 14:43:31.086496: W tensorflow/compiler/xla/stream_executor/platform/default/dso_loader.cc:64] Could not load dynamic library 'libnvinfer_plugin.so.7'; dlerror: libnvinfer_plugin.so.7: cannot open shared object file: No such file or directory\n",
            "2023-02-20 14:43:31.086500: W tensorflow/compiler/tf2tensorrt/utils/py_utils.cc:38] TF-TRT Warning: Cannot dlopen some TensorRT libraries. If you would like to use Nvidia GPU with TensorRT, please make sure the missing libraries mentioned above are installed properly.\n"
          ]
        }
      ],
      "source": [
        "import tensorflow as tf\n",
        "import os\n",
        "import numpy\n",
        "from matplotlib import pyplot as plt"
      ]
    },
    {
      "cell_type": "code",
      "source": [
        "os.chdir('/home/user/tensorflow')\n",
        "from tensorflow.keras.preprocessing.image import ImageDataGenerator\n",
        "\n",
        "train_datagen = ImageDataGenerator(\n",
        "    rescale=1./255,\n",
        "    rotation_range=20,\n",
        "    width_shift_range=0.2,\n",
        "    height_shift_range=0.2,\n",
        "    shear_range=0.2,\n",
        "    zoom_range=0.2,\n",
        "    horizontal_flip=True,\n",
        "    vertical_flip=True,\n",
        "    fill_mode='nearest'\n",
        ")\n",
        "\n",
        "val_datagen = ImageDataGenerator(rescale=1./255)\n",
        "\n",
        "batch_size = 32\n",
        "img_size = (224, 224)\n",
        "\n",
        "train_generator = train_datagen.flow_from_directory(\n",
        "    'food-10c/train/',\n",
        "    target_size=img_size,\n",
        "    batch_size=batch_size,\n",
        "    class_mode='sparse'\n",
        ")\n",
        "\n",
        "val_generator = val_datagen.flow_from_directory(\n",
        "    'food-10c/val/',\n",
        "    target_size=img_size,\n",
        "    batch_size=batch_size,\n",
        "    class_mode='sparse'\n",
        ")"
      ],
      "metadata": {
        "colab": {
          "base_uri": "https://localhost:8080/"
        },
        "id": "6pqmikSv_V4o",
        "outputId": "dd1026de-3f64-46cb-c38a-07ae9427ce15"
      },
      "execution_count": 2,
      "outputs": [
        {
          "output_type": "stream",
          "name": "stdout",
          "text": [
            "Found 8000 images belonging to 10 classes.\n",
            "Found 2000 images belonging to 10 classes.\n"
          ]
        }
      ]
    },
    {
      "cell_type": "code",
      "source": [
        "from tensorflow.keras.models import Sequential\n",
        "from tensorflow.keras.layers import Conv2D, MaxPooling2D, Dense, Flatten, Dropout\n",
        "from tensorflow.keras.applications.mobilenet_v2 import MobileNetV2, preprocess_input\n",
        "from tensorflow.keras import regularizers"
      ],
      "metadata": {
        "id": "rnEJ45_-_XdJ"
      },
      "execution_count": 3,
      "outputs": []
    },
    {
      "cell_type": "code",
      "source": [
        "early_stopping = tf.keras.callbacks.EarlyStopping(monitor='val_loss', patience=10)"
      ],
      "metadata": {
        "id": "1ROIiBt0_Yo8"
      },
      "execution_count": 4,
      "outputs": []
    },
    {
      "cell_type": "code",
      "source": [
        "base_model = tf.keras.applications.MobileNetV2(input_shape=(224, 224, 3), include_top=False, weights='imagenet')\n",
        "\n",
        "for layer in base_model.layers[:-5]:\n",
        "    layer.trainable = False\n"
      ],
      "metadata": {
        "colab": {
          "base_uri": "https://localhost:8080/"
        },
        "id": "o6X4uvnX_ZvE",
        "outputId": "f1f66349-f345-4d41-c3a1-3f575015ccfd"
      },
      "execution_count": 5,
      "outputs": [
        {
          "output_type": "stream",
          "name": "stderr",
          "text": [
            "2023-02-20 14:43:32.107626: W tensorflow/compiler/xla/stream_executor/platform/default/dso_loader.cc:64] Could not load dynamic library 'libcuda.so.1'; dlerror: libcuda.so.1: cannot open shared object file: No such file or directory\n",
            "2023-02-20 14:43:32.107653: W tensorflow/compiler/xla/stream_executor/cuda/cuda_driver.cc:265] failed call to cuInit: UNKNOWN ERROR (303)\n",
            "2023-02-20 14:43:32.107673: I tensorflow/compiler/xla/stream_executor/cuda/cuda_diagnostics.cc:156] kernel driver does not appear to be running on this host (user-desktop): /proc/driver/nvidia/version does not exist\n",
            "2023-02-20 14:43:32.107925: I tensorflow/core/platform/cpu_feature_guard.cc:193] This TensorFlow binary is optimized with oneAPI Deep Neural Network Library (oneDNN) to use the following CPU instructions in performance-critical operations:  AVX2 FMA\n",
            "To enable them in other operations, rebuild TensorFlow with the appropriate compiler flags.\n"
          ]
        }
      ]
    },
    {
      "cell_type": "code",
      "source": [
        "model = tf.keras.Sequential()\n",
        "model.add(base_model),\n",
        "model.add(tf.keras.layers.GlobalAveragePooling2D()),\n",
        "model.add(tf.keras.layers.Dense(128, activation='relu', kernel_regularizer=regularizers.l2(0.01))),\n",
        "model.add(Dropout(0.5)),\n",
        "model.add(tf.keras.layers.Dense(10, activation='softmax'))\n",
        "\n",
        "model.summary()"
      ],
      "metadata": {
        "colab": {
          "base_uri": "https://localhost:8080/"
        },
        "id": "Tedrydn2_a4C",
        "outputId": "deb0a0f5-48cc-49f3-b9ad-f71be736089a"
      },
      "execution_count": 6,
      "outputs": [
        {
          "output_type": "stream",
          "name": "stdout",
          "text": [
            "Model: \"sequential\"\n",
            "_________________________________________________________________\n",
            " Layer (type)                Output Shape              Param #   \n",
            "=================================================================\n",
            " mobilenetv2_1.00_224 (Funct  (None, 7, 7, 1280)       2257984   \n",
            " ional)                                                          \n",
            "                                                                 \n",
            " global_average_pooling2d (G  (None, 1280)             0         \n",
            " lobalAveragePooling2D)                                          \n",
            "                                                                 \n",
            " dense (Dense)               (None, 128)               163968    \n",
            "                                                                 \n",
            " dropout (Dropout)           (None, 128)               0         \n",
            "                                                                 \n",
            " dense_1 (Dense)             (None, 10)                1290      \n",
            "                                                                 \n",
            "=================================================================\n",
            "Total params: 2,423,242\n",
            "Trainable params: 885,258\n",
            "Non-trainable params: 1,537,984\n",
            "_________________________________________________________________\n"
          ]
        }
      ]
    },
    {
      "cell_type": "code",
      "source": [
        "model.compile(optimizer=tf.keras.optimizers.Adam(lr=1e-5),\n",
        "              loss='sparse_categorical_crossentropy',\n",
        "              metrics=['accuracy'])\n",
        "\n",
        "    model.fit(\n",
        "    train_generator,\n",
        "    epochs=30,\n",
        "    batch_size=batch_size,\n",
        "    callbacks=[early_stopping, history],\n",
        "    validation_data=val_generator\n",
        "\n",
        ")"
      ],
      "metadata": {
        "colab": {
          "base_uri": "https://localhost:8080/"
        },
        "id": "8YBSMDR3_cND",
        "outputId": "411666da-a533-4a02-9402-b9af88215ba5"
      },
      "execution_count": 7,
      "outputs": [
        {
          "output_type": "stream",
          "name": "stderr",
          "text": [
            "WARNING:absl:`lr` is deprecated, please use `learning_rate` instead, or use the legacy optimizer, e.g.,tf.keras.optimizers.legacy.Adam.\n"
          ]
        },
        {
          "output_type": "stream",
          "name": "stdout",
          "text": [
            "Epoch 1/30\n",
            "250/250 [==============================] - 119s 466ms/step - loss: 2.2447 - accuracy: 0.6733 - val_loss: 6.2705 - val_accuracy: 0.4325\n",
            "Epoch 2/30\n",
            "250/250 [==============================] - 117s 469ms/step - loss: 1.1523 - accuracy: 0.7477 - val_loss: 5.9849 - val_accuracy: 0.4495\n",
            "Epoch 3/30\n",
            "250/250 [==============================] - 117s 469ms/step - loss: 0.9414 - accuracy: 0.7655 - val_loss: 8.0157 - val_accuracy: 0.3755\n",
            "Epoch 4/30\n",
            "250/250 [==============================] - 115s 461ms/step - loss: 0.8622 - accuracy: 0.7739 - val_loss: 5.9912 - val_accuracy: 0.3950\n",
            "Epoch 5/30\n",
            "250/250 [==============================] - 117s 466ms/step - loss: 0.8011 - accuracy: 0.7886 - val_loss: 4.7810 - val_accuracy: 0.5040\n",
            "Epoch 6/30\n",
            "250/250 [==============================] - 117s 468ms/step - loss: 0.7850 - accuracy: 0.7950 - val_loss: 4.6461 - val_accuracy: 0.5070\n",
            "Epoch 7/30\n",
            "250/250 [==============================] - 116s 462ms/step - loss: 0.7410 - accuracy: 0.8037 - val_loss: 4.8922 - val_accuracy: 0.4915\n",
            "Epoch 8/30\n",
            "250/250 [==============================] - 116s 465ms/step - loss: 0.7246 - accuracy: 0.8079 - val_loss: 3.3884 - val_accuracy: 0.5830\n",
            "Epoch 9/30\n",
            "250/250 [==============================] - 115s 461ms/step - loss: 0.7091 - accuracy: 0.8177 - val_loss: 1.6758 - val_accuracy: 0.7460\n",
            "Epoch 10/30\n",
            "250/250 [==============================] - 117s 469ms/step - loss: 0.7168 - accuracy: 0.8140 - val_loss: 2.0153 - val_accuracy: 0.6995\n",
            "Epoch 11/30\n",
            "250/250 [==============================] - 114s 455ms/step - loss: 0.7078 - accuracy: 0.8198 - val_loss: 2.2926 - val_accuracy: 0.6290\n",
            "Epoch 12/30\n",
            "250/250 [==============================] - 116s 463ms/step - loss: 0.6945 - accuracy: 0.8217 - val_loss: 1.7501 - val_accuracy: 0.7350\n",
            "Epoch 13/30\n",
            "250/250 [==============================] - 117s 466ms/step - loss: 0.6869 - accuracy: 0.8188 - val_loss: 2.1952 - val_accuracy: 0.6500\n",
            "Epoch 14/30\n",
            "250/250 [==============================] - 116s 463ms/step - loss: 0.6752 - accuracy: 0.8273 - val_loss: 1.3873 - val_accuracy: 0.7520\n",
            "Epoch 15/30\n",
            "250/250 [==============================] - 116s 465ms/step - loss: 0.6831 - accuracy: 0.8251 - val_loss: 1.8890 - val_accuracy: 0.6945\n",
            "Epoch 16/30\n",
            "250/250 [==============================] - 114s 457ms/step - loss: 0.6535 - accuracy: 0.8329 - val_loss: 1.3380 - val_accuracy: 0.7595\n",
            "Epoch 17/30\n",
            "250/250 [==============================] - 115s 460ms/step - loss: 0.6480 - accuracy: 0.8375 - val_loss: 1.4637 - val_accuracy: 0.7590\n",
            "Epoch 18/30\n",
            "250/250 [==============================] - 115s 460ms/step - loss: 0.6588 - accuracy: 0.8371 - val_loss: 1.7237 - val_accuracy: 0.7120\n",
            "Epoch 19/30\n",
            "250/250 [==============================] - 116s 466ms/step - loss: 0.6191 - accuracy: 0.8446 - val_loss: 1.3520 - val_accuracy: 0.7625\n",
            "Epoch 20/30\n",
            "250/250 [==============================] - 114s 455ms/step - loss: 0.6374 - accuracy: 0.8385 - val_loss: 1.2145 - val_accuracy: 0.7540\n",
            "Epoch 21/30\n",
            "250/250 [==============================] - 116s 464ms/step - loss: 0.6310 - accuracy: 0.8411 - val_loss: 1.9581 - val_accuracy: 0.6625\n",
            "Epoch 22/30\n",
            "250/250 [==============================] - 113s 453ms/step - loss: 0.6210 - accuracy: 0.8456 - val_loss: 1.6779 - val_accuracy: 0.7055\n",
            "Epoch 23/30\n",
            "250/250 [==============================] - 113s 451ms/step - loss: 0.6238 - accuracy: 0.8389 - val_loss: 2.0430 - val_accuracy: 0.6740\n",
            "Epoch 24/30\n",
            "250/250 [==============================] - 117s 467ms/step - loss: 0.5932 - accuracy: 0.8514 - val_loss: 1.1461 - val_accuracy: 0.8000\n",
            "Epoch 25/30\n",
            "250/250 [==============================] - 116s 463ms/step - loss: 0.6077 - accuracy: 0.8480 - val_loss: 1.3753 - val_accuracy: 0.7760\n",
            "Epoch 26/30\n",
            "250/250 [==============================] - 113s 450ms/step - loss: 0.5849 - accuracy: 0.8536 - val_loss: 1.0088 - val_accuracy: 0.8200\n",
            "Epoch 27/30\n",
            "250/250 [==============================] - 127s 508ms/step - loss: 0.5747 - accuracy: 0.8549 - val_loss: 1.0316 - val_accuracy: 0.7840\n",
            "Epoch 28/30\n",
            "250/250 [==============================] - 115s 460ms/step - loss: 0.5711 - accuracy: 0.8541 - val_loss: 0.9315 - val_accuracy: 0.8070\n",
            "Epoch 29/30\n",
            "250/250 [==============================] - 116s 462ms/step - loss: 0.5767 - accuracy: 0.8530 - val_loss: 0.8222 - val_accuracy: 0.8200\n",
            "Epoch 30/30\n",
            "250/250 [==============================] - 127s 509ms/step - loss: 0.5650 - accuracy: 0.8559 - val_loss: 0.9097 - val_accuracy: 0.8185\n"
          ]
        }
      ]
    },
    {
      "cell_type": "code",
      "source": [
        "fig = plt.figure()\n",
        "plt.plot(history.history['loss'], color='teal', label='loss')\n",
        "plt.plot(history.history['val_loss'], color='orange', label='val_loss')\n",
        "fig.suptitle('Loss', fontsize=20)\n",
        "plt.legend(loc='upper left')\n",
        "plt.show()"
      ],
      "metadata": {
        "colab": {
          "base_uri": "https://localhost:8080/",
          "height": 478
        },
        "id": "Sqheqj5ROpnI",
        "outputId": "dd3475d1-1b1f-46c4-ec7a-8cf14afd8282"
      },
      "execution_count": 9,
      "outputs": [
        {
          "output_type": "display_data",
          "data": {
            "text/plain": [
              "<Figure size 640x480 with 1 Axes>"
            ],
            "image/png": "[encoded data removed]"
          },
          "metadata": {}
        }
      ]
    },
    {
      "cell_type": "code",
      "source": [
        "fig = plt.figure()\n",
        "plt.plot(history.history['accuracy'], color='teal', label='accuracy')\n",
        "plt.plot(history.history['val_accuracy'], color='orange', label='val_accuracy')\n",
        "fig.suptitle('Accuracy', fontsize=20)\n",
        "plt.legend(loc='upper left')\n",
        "plt.show()"
      ],
      "metadata": {
        "colab": {
          "base_uri": "https://localhost:8080/",
          "height": 478
        },
        "id": "376ZQ-PxOtTG",
        "outputId": "5b208ad1-7aa5-48ff-bb19-d38f36fe3291"
      },
      "execution_count": 10,
      "outputs": [
        {
          "output_type": "display_data",
          "data": {
            "text/plain": [
              "<Figure size 640x480 with 1 Axes>"
            ],
            "image/png": "[encoded data removed]"
          },
          "metadata": {}
        }
      ]
    },
    {
      "cell_type": "code",
      "source": [
        "optimizer = tf.keras.optimizers.Adam(lr=1e-5)\n",
        "checkpoint = tf.train.Checkpoint(model=model, optimizer=optimizer)\n",
        "checkpoint_path = 'checkpoint/h5'\n",
        "checkpoint.save(checkpoint_path)"
      ],
      "metadata": {
        "colab": {
          "base_uri": "https://localhost:8080/"
        },
        "id": "-W92z6WGwSj-",
        "outputId": "07ff6564-fca2-4935-8108-be4cf49a5bd9"
      },
      "execution_count": 15,
      "outputs": [
        {
          "output_type": "stream",
          "name": "stderr",
          "text": [
            "WARNING:absl:`lr` is deprecated, please use `learning_rate` instead, or use the legacy optimizer, e.g.,tf.keras.optimizers.legacy.Adam.\n"
          ]
        },
        {
          "output_type": "execute_result",
          "data": {
            "text/plain": [
              "'checkpoint/h5-1'"
            ]
          },
          "metadata": {},
          "execution_count": 15
        }
      ]
    },
    {
      "cell_type": "code",
      "source": [
        "latest_checkpoint = tf.train.latest_checkpoint(checkpoint_path)\n",
        "checkpoint.restore(latest_checkpoint)"
      ],
      "metadata": {
        "colab": {
          "base_uri": "https://localhost:8080/"
        },
        "id": "kbwVF1zOxKCj",
        "outputId": "15c714c4-02dc-444d-d48e-ae79dc6f1d55"
      },
      "execution_count": 16,
      "outputs": [
        {
          "output_type": "execute_result",
          "data": {
            "text/plain": [
              "<tensorflow.python.checkpoint.checkpoint.InitializationOnlyStatus at 0x7fa7b6e72cd0>"
            ]
          },
          "metadata": {},
          "execution_count": 16
        }
      ]
    },
    {
      "cell_type": "code",
      "source": [
        "model.save('my_model.h5')"
      ],
      "metadata": {
        "id": "W6oxQupG8zx8"
      },
      "execution_count": 17,
      "outputs": []
    }
  ]
}